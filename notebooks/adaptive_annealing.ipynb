{
 "cells": [
  {
   "cell_type": "markdown",
   "metadata": {},
   "source": [
    "In this notebook we do the annealing for the adaptive schedule derived from the fluctuation analysis done in \"analyse_fluctuations_k.ipynb\"\n",
    "\n",
    "**Just check what fluctuation and metric it is using.**"
   ]
  },
  {
   "cell_type": "code",
   "execution_count": null,
   "metadata": {},
   "outputs": [],
   "source": [
    "using AdaptiveQuantumAnnealing"
   ]
  },
  {
   "cell_type": "code",
   "execution_count": null,
   "metadata": {},
   "outputs": [],
   "source": [
    "# The objective of this notebook is to merge the adaptive part with the AGP\n",
    "using  SpinFluctuations\n",
    "using LinearAlgebra, PyPlot, Printf, DelimitedFiles\n",
    "using Interpolations, DifferentialEquations\n",
    "using Symbolics, ForwardDiff\n",
    "using PyCall, DataFrames\n",
    "using HDF5, QAOA\n",
    "\n",
    "# include(\"/home/ubuntu/Archives/projects/AdaptiveQuantumAnnealing.jl/src/utils.jl\")\n",
    "# include(\"/home/ubuntu/Archives/projects/AdaptiveQuantumAnnealing.jl/src/adiabatic_gauge_potential.jl\")\n",
    "include(\"/home/ubuntu/.julia/dev/AdaptiveQuantumAnnealing/src/qutip_utils.jl\")\n",
    "\n",
    "qp = pyimport(\"qutip\")\n",
    "np = pyimport(\"numpy\")\n",
    "PyPlot.plt.style.use(\"~/paper.mplstyle\") \n",
    "rc(\"text\", usetex=true)"
   ]
  },
  {
   "cell_type": "markdown",
   "metadata": {},
   "source": [
    "### Open file"
   ]
  },
  {
   "cell_type": "code",
   "execution_count": null,
   "metadata": {},
   "outputs": [],
   "source": [
    "# # # Extra.csv: Mirkarimi raw data\n",
    "# # # If you are running this, keep in mind you do not have the exact arpack stored in lambda above, but nonetheless we redo this calculation below\n",
    "# # # ms_filename =  \"khdzusjsapqkkrbpjlknwsbxdbijax\"\n",
    "# # ms_filename =  \"khdzusjsapqkkrbpjlknwsbxdbijax\"\n",
    "# # ms_folder_path = \"/home/ubuntu/Archives/data/MAX2SATQuantumData/Mirkarimi_ComparingHardness/instances_typical/\"\n",
    "# ms_folder_path = \"/home/ubuntu/Archives/data/MAX2SAT/crosson/\"\n",
    "# ms_filename = string(0)\n",
    "# ms_file_path =  ms_folder_path * ms_filename * \".m2s\"\n",
    "# N = 20"
   ]
  },
  {
   "cell_type": "code",
   "execution_count": null,
   "metadata": {},
   "outputs": [],
   "source": [
    "# # To get the J and h for the mirkarimi raw\n",
    "# types_to_values = Dict(\"type_1\" => (1, 1, 1), \"type_2\" => (1, -1, -1), \"type_3\" => (-1, 1, -1), \"type_4\" => (-1, -1, 1))\n",
    "# function get_clause_type_from(pair_of_unary_logical_connectives)\n",
    "#     mapping = Dict((1, 1) => \"type_1\", (1, -1) => \"type_2\", (-1, 1) => \"type_3\", (-1, -1) => \"type_4\")\n",
    "#     mapping[pair_of_unary_logical_connectives]\n",
    "# end\n",
    "\n",
    "# rawdata = readdlm(ms_file_path)\n",
    "\n",
    "# not_negated_1 = rawdata[:, 1]\n",
    "# not_negated_2 = rawdata[:, 3]\n",
    "# unary_logical_connectives = zip(not_negated_1, not_negated_2) |> collect \n",
    "# clause_types = get_clause_type_from.(unary_logical_connectives)\n",
    "\n",
    "# vars_1 = (rawdata[:, 2] .|> Int) .+ 1\n",
    "# vars_2 = (rawdata[:, 4] .|> Int) .+ 1    \n",
    "# clause_vars = zip(vars_1, vars_2) .|> collect\n",
    "\n",
    "# clause_types = get_clause_type_from.(unary_logical_connectives)\n",
    "\n",
    "# C = zip(clause_vars, clause_types)  |> collect\n",
    "\n",
    "# h = zeros(N)\n",
    "# J = zeros(N, N)\n",
    "# for c in C\n",
    "#     h[c[1][1]] += -types_to_values[c[2]][1]\n",
    "#     h[c[1][2]] += -types_to_values[c[2]][2]\n",
    "#     J[c[1][1], c[1][2]] += -types_to_values[c[2]][3]\n",
    "# end\n",
    "# J_mat = J + transpose(J);\n",
    "\n",
    "# mf_problem = Problem(0, h, J_mat);\n",
    "\n",
    "# gap_loc = 0.0;"
   ]
  },
  {
   "cell_type": "code",
   "execution_count": null,
   "metadata": {},
   "outputs": [],
   "source": [
    "\n",
    "# # TIM SK 8\n",
    "# J_mat = [0.0000 -0.3935 -0.0293 -0.1723 0.2925 0.2980 -0.0653 0.0795 0.3231; -0.3935 0.0000 0.2155 -0.1747 0.0003 -0.1460 0.3691 -0.0424 0.7848; -0.0293 0.2155 0.0000 -0.0278 0.0775 -0.0089 0.4674 0.5540 -0.1661; -0.1723 -0.1747 -0.0278 0.0000 -0.4918 -0.2860 0.7536 -0.5298 -0.2358; 0.2925 0.0003 0.0775 -0.4918 0.0000 0.4682 -0.0260 -0.0048 -0.1009; 0.2980 -0.1460 -0.0089 -0.2860 0.4682 0.0000 0.0612 0.3231 0.1912; -0.0653 0.3691 0.4674 0.7536 -0.0260 0.0612 0.0000 -0.1662 -0.2366; 0.0795 -0.0424 0.5540 -0.5298 -0.0048 0.3231 -0.1662 0.0000 -0.2560; 0.3231 0.7848 -0.1661 -0.2358 -0.1009 0.1912 -0.2366 -0.2560 0.0000]\n",
    "# mf_problem = Problem(2^12,J_mat);\n",
    "\n",
    "# gap_loc = 0.7878787878787878 # derived from another notebook, nothing comlex"
   ]
  },
  {
   "cell_type": "code",
   "execution_count": null,
   "metadata": {},
   "outputs": [],
   "source": [
    "a = \"/home/ubuntu/.julia/dev/AdaptiveQuantumAnnealing/data/instances/random_SK_instance_N_9_seed_131412.h5\"\n",
    "\n",
    "J_mat  = h5read(a,\"J\")\n",
    "mf_problem = Problem(2^12,J_mat);\n",
    "gap_loc = 0.7878787878787878"
   ]
  },
  {
   "cell_type": "code",
   "execution_count": null,
   "metadata": {},
   "outputs": [],
   "source": [
    "# using CSV, Tables\n",
    "# CSV.write(\"J_mat.csv\", Tables.table(J_mat))\n",
    "# J_mat"
   ]
  },
  {
   "cell_type": "code",
   "execution_count": null,
   "metadata": {},
   "outputs": [],
   "source": [
    "# system_size = 11\n",
    "# file_path = @sprintf(\"/home/ubuntu/Archives/data/tb_mount/N_%s/small_gaps/\", string(system_size))\n",
    "\n",
    "# # results_file = @sprintf(\"results_random_SK_instance_N_%s_seed_\", string(system_size)) * string(seed) * \".h5\" \n",
    "# seed = 2809\n",
    "# instance_file = @sprintf(\"random_SK_instance_N_%s_seed_\", string(system_size)) * string(seed) * \".h5\";\n",
    "\n",
    "# J_mat  = h5read(file_path * instance_file,\"J\")\n",
    "# mf_problem = Problem(0,J_mat); # This is just to read the problem\n",
    "# gap_loc = 0.8181818181818182"
   ]
  },
  {
   "cell_type": "code",
   "execution_count": null,
   "metadata": {},
   "outputs": [],
   "source": [
    "J_prime = mf_problem.couplings\n",
    "h_prime = mf_problem.local_fields\n",
    "N = mf_problem.num_qubits;"
   ]
  },
  {
   "cell_type": "markdown",
   "metadata": {},
   "source": [
    "### Fluctuations"
   ]
  },
  {
   "cell_type": "code",
   "execution_count": null,
   "metadata": {},
   "outputs": [],
   "source": [
    "# npts = 8192\n",
    "npts = 2048\n",
    "T_final = 30000.\n",
    "tol = 1e-8;\n",
    "\n",
    "\n",
    "coarse_times = range(0, 1, npts + 1);\n",
    "lyapunov_parameters = LyapunovParameters(T_final, npts, tol, tol);"
   ]
  },
  {
   "cell_type": "code",
   "execution_count": null,
   "metadata": {},
   "outputs": [],
   "source": [
    "# This gives the action matrix(20X20) for the gaussian fluctuation - 2048 points \n",
    "sol, stat_GF = statistical_green_function(mf_problem, lyapunov_parameters);"
   ]
  },
  {
   "cell_type": "code",
   "execution_count": null,
   "metadata": {},
   "outputs": [],
   "source": [
    "# Refer to the eq. 11.20 from Altman, Retard green functions \n",
    "flucs = k -> (real.(1.0im .* diag(stat_GF[k])[1:mf_problem.num_qubits]) .- 1.0) ./ 2;\n",
    "all_flucs = reduce(hcat, map(flucs, 1:npts+1));"
   ]
  },
  {
   "cell_type": "code",
   "execution_count": null,
   "metadata": {},
   "outputs": [],
   "source": [
    "# Set figure size\n",
    "figure(figsize=(10, 4))\n",
    "\n",
    "# Define the y-axis range and tick positions\n",
    "ylims = (0, 0.15)\n",
    "ytick_positions = [0, 0.075, 0.15]  # Manually specify the tick positions\n",
    "\n",
    "# Plotting loop\n",
    "for i in 1:(N ÷ 2)\n",
    "    ax = subplot(2, (N ÷ 2), i)\n",
    "    c = \"k\"\n",
    "    plot(coarse_times, smoothen(all_flucs[i, :], coarse_times), c=c, label = \"Spin $i\", linewidth=1.5)\n",
    "    axvline(gap_loc, ls=\"--\", color=\"C0\", label = \"Gap loc.\")\n",
    "    xlim(0., 1)\n",
    "    ax.set_xticklabels([])\n",
    "    yticks(ytick_positions)  # Set y-axis ticks\n",
    "    if i > 1\n",
    "        ax.set_yticklabels([])\n",
    "    end\n",
    "    if i == 2\n",
    "        legend(loc=\"upper left\", fontsize=11)\n",
    "    end\n",
    "end\n",
    "\n",
    "# Plotting loop for the second row\n",
    "for i in ((N ÷ 2) + 1):N\n",
    "    ax = subplot(2, (N ÷ 2), i)\n",
    "    c = \"k\"\n",
    "    plot(coarse_times, smoothen(all_flucs[i, :], coarse_times), c=c, label = \"Spin $i\", linewidth=1.5)\n",
    "    axvline(gap_loc, ls=\"--\", color=\"C0\", label = \"Gap loc.\")\n",
    "    xlim(0., 1)\n",
    "    yticks(ytick_positions)  # Set y-axis ticks\n",
    "    xlabel(L\"$s$\", fontsize=14)\n",
    "    if i > ((N ÷ 2) + 1)\n",
    "        ax.set_yticklabels([])\n",
    "    else\n",
    "        ax.set_ylabel(L\"$F_{ii}(t, t)$\", fontsize=14)\n",
    "    end    \n",
    "    if i == 5 || i == 7\n",
    "        legend(loc=\"upper left\", fontsize=11)\n",
    "        \n",
    "    end\n",
    "end\n",
    "\n",
    "# Tight layout\n",
    "tight_layout()\n",
    "\n",
    "\n",
    "\n",
    "# Display figure\n",
    "display(gcf())\n",
    "# savefig(\"/home/ubuntu/Archives/projects/Master_thesis/graphics/results/sk_instance_2/fluctuations.pdf\")\n"
   ]
  },
  {
   "cell_type": "markdown",
   "metadata": {},
   "source": [
    "# Feed the top index from trajectory analysis"
   ]
  },
  {
   "cell_type": "code",
   "execution_count": null,
   "metadata": {},
   "outputs": [],
   "source": [
    "# top_idx = 5"
   ]
  },
  {
   "cell_type": "code",
   "execution_count": null,
   "metadata": {},
   "outputs": [],
   "source": [
    "cut_solution(x) = sol.(x .* sol.t[end]); # Just converts the domain from [0,30k]->[0,1]\n",
    "nx_coarse = hcat([matrix[1, :] for matrix in cut_solution(coarse_times)]...); # Extracting the individual spin from the sol\n",
    "ny_coarse = hcat([matrix[2, :] for matrix in cut_solution(coarse_times)]...);\n",
    "nz_coarse = hcat([matrix[3, :] for matrix in cut_solution(coarse_times)]...);\n",
    "\n",
    "scaled_flucs(scale_factor, spin_nr) = smoothen(scale_factor.^2 .* all_flucs[spin_nr, :], coarse_times, navg=128) # gives the scaled flucs."
   ]
  },
  {
   "cell_type": "code",
   "execution_count": null,
   "metadata": {},
   "outputs": [],
   "source": [
    "# Beautification\n",
    "# Set figure size\n",
    "figure(figsize=(4, 4))\n",
    "\n",
    "# Calculate scale factor\n",
    "scale_factor = 1 .+ abs.(complex_coordinate(top_idx, nx_coarse, ny_coarse, nz_coarse)).^2\n",
    "\n",
    "# Plot scaled fluctuations\n",
    "subplot(212)\n",
    "plot(coarse_times, scaled_flucs(scale_factor, top_idx))\n",
    "axvline(gap_loc, ls=\"--\", c=\"k\", alpha=0.5)\n",
    "xlim(0, 1)\n",
    "ylim(0, )  # Adjust ylim as needed\n",
    "xlabel(\"\\$s\\$\")\n",
    "ylabel(\"\\$F_{ii}\\$ (Scaled)\")\n",
    "title(\"\\$i = 2\\$\", fontsize=14)  # Set subplot title with reduced font size\n",
    "\n",
    "# Tight layout\n",
    "tight_layout()\n",
    "\n",
    "# Display figure\n",
    "display(gcf())\n"
   ]
  },
  {
   "cell_type": "code",
   "execution_count": null,
   "metadata": {},
   "outputs": [],
   "source": [
    "# Gaussian with a peak in at the gap location\n",
    "function generate_gaussian(peak_position)\n",
    "    σ = 0.05  # SD- adjust\n",
    "    # A = 1 / exp(-0.5 * ((0.5 - peak_position) / σ)^2)  # Amplitude to ensure f(0) = f(1) = 0 # Not sure wether if this does that \n",
    "\n",
    "    gaussian(x) = 4 * exp(-0.5 * ((x - peak_position) / σ)^2)\n",
    "    return gaussian\n",
    "end"
   ]
  },
  {
   "cell_type": "code",
   "execution_count": null,
   "metadata": {},
   "outputs": [],
   "source": [
    "Chi_new_metric = scaled_flucs(scale_factor, top_idx);\n",
    "# Chi_new_metric_norm = Chi_new_metric ./ maximum(Chi_new_metric);\n",
    "Chi_new_metric_norm = generate_gaussian(argmax(Chi_new_metric) / length(coarse_times)).(coarse_times); # gives a gaussian\n",
    "# Chi_new_metric_norm = Chi_new_metric_norm ./ maximum(Chi_new_metric_norm);# This should normalise it to max height one??\n",
    "Chi_new_metric = copy(Chi_new_metric_norm);"
   ]
  },
  {
   "cell_type": "code",
   "execution_count": null,
   "metadata": {},
   "outputs": [],
   "source": [
    "# Set figure size\n",
    "figure(figsize=(10, 3))\n",
    "\n",
    "# Calculate scale factor\n",
    "scale_factor = 1 .+ abs.(complex_coordinate(top_idx, nx_coarse, ny_coarse, nz_coarse)).^2\n",
    "\n",
    "# Plot scaled fluctuations on the left\n",
    "subplot(1, 2, 1)\n",
    "plot(coarse_times, scaled_flucs(scale_factor, top_idx))\n",
    "axvline(gap_loc, ls=\"--\", c=\"k\", alpha=0.5, label=\"Gap Position\")\n",
    "xlim(0, 1)\n",
    "ylim(0, )  # Adjust ylim as needed\n",
    "xlabel(\"\\$s\\$\")\n",
    "ylabel(\"\\$F_{ii}\\$ (Scaled)\")\n",
    "title(\"\\$i = 2\\$\", fontsize=10)  # Set subplot title with reduced font size\n",
    "legend() \n",
    "\n",
    "# Plot Chi_new_metric_norm on the right\n",
    "subplot(1, 2, 2)\n",
    "plot(coarse_times, Chi_new_metric_norm)\n",
    "axvline(gap_loc, ls=\"--\", c=\"k\", alpha=0.5)\n",
    "xlim(0, 1)\n",
    "ylim(0, )  # Adjust ylim as needed\n",
    "xlabel(\"\\$s\\$\")\n",
    "# ylabel(\"Metric\")\n",
    "title(\"Derived metric\", fontsize=10)  # Set subplot title with reduced font size\n",
    "\n",
    "# Tight layout\n",
    "tight_layout()\n",
    "\n",
    "# Display figure\n",
    "display(gcf())\n",
    "# savefig(\"/home/ubuntu/Archives/projects/Master_thesis/graphics/results/sk_instance_2/schedule.pdf\")"
   ]
  },
  {
   "cell_type": "code",
   "execution_count": null,
   "metadata": {},
   "outputs": [],
   "source": [
    "figure(figsize = (4,3))\n",
    "\n",
    "plot(coarse_times, scaled_flucs(scale_factor, top_idx), label = \"Fluctuation(i=2)\")\n",
    "plot(coarse_times, Chi_new_metric, label = \" Gaussian peak\")\n",
    "axvline(argmax(Chi_new_metric) / length(coarse_times), linestyle = \"--\", color = \"grey\", label = \"Peak loc.\")\n",
    "legend()\n",
    "xlim(0, 1)\n",
    "ylim(0, 1)  # Adjust ylim as needed\n",
    "xlabel(\"\\$s(t)\\$\")\n",
    "# ylabel(\"\\$F_{ii}\\$ (Scaled)\")\n",
    "\n",
    "display(gcf())\n",
    "# savefig(\"/home/ubuntu/Archives/projects/Master_thesis/graphics/results/sk_instance_2/gaussian_metric.pdf\")"
   ]
  },
  {
   "cell_type": "code",
   "execution_count": null,
   "metadata": {},
   "outputs": [],
   "source": [
    "T_f_in = 2^10\n",
    "taulist = range(0, T_f_in, trunc(Int, 10* T_f_in)) # for the annealing"
   ]
  },
  {
   "cell_type": "code",
   "execution_count": null,
   "metadata": {},
   "outputs": [],
   "source": [
    "g_new = linear_interpolation(coarse_times, Chi_new_metric)\n",
    "g_feed = x-> 1 * g_new(x); # This multiplication with a scalar is to enhance the flatness at the gap region"
   ]
  },
  {
   "cell_type": "code",
   "execution_count": null,
   "metadata": {},
   "outputs": [],
   "source": [
    "adaptive_schedule_parameters = AdaptiveScheduleParameters(taulist[end], RK4(), [0.0, 1.], 10000, 20, 1e-7, 1e-9)\n",
    "adaptive_schedule = solve_boundary_value_problem(g_feed, adaptive_schedule_parameters);"
   ]
  },
  {
   "cell_type": "code",
   "execution_count": null,
   "metadata": {},
   "outputs": [],
   "source": [
    "\n",
    "figure(figsize=(4, 3))\n",
    "\n",
    "# Plot the schedule\n",
    "plot(taulist, adaptive_schedule.(taulist), label=\"A=4\", linewidth=1.5)\n",
    "\n",
    "# Add a vertical line at the gap location\n",
    "axvline(gap_loc * taulist[end], ls=\"--\", c=\"gray\", alpha=0.7, label=\"Gap loc.\")\n",
    "\n",
    "# Set limits and labels\n",
    "xlim(taulist[1], taulist[end])\n",
    "xlabel(\"Time (\\$t\\$)\")\n",
    "ylabel(\"\\$s(t)\\$\")\n",
    "ylim(0, 1)\n",
    "\n",
    "# Add legend with improved formatting\n",
    "legend(frameon=false)#, loc = \"upper left\")\n",
    "\n",
    "# Add gridlines for better readability\n",
    "grid(alpha=0.3)\n",
    "\n",
    "# Tight layout\n",
    "tight_layout()\n",
    "\n",
    "# Display figure\n",
    "display(gcf())\n",
    "\n",
    "# savefig(\"/home/ubuntu/Archives/projects/Master_thesis/graphics/results/sk_instance_2/schedule_3.pdf\")\n"
   ]
  },
  {
   "cell_type": "markdown",
   "metadata": {},
   "source": [
    "### AGP part\n",
    "Now that we have the schedule, we have to modify the action function from the AGP for this."
   ]
  },
  {
   "cell_type": "code",
   "execution_count": null,
   "metadata": {},
   "outputs": [],
   "source": [
    "# @variables J[1:N,1:N] h_d[1:N] h_p[1:N]\n",
    "h_p = -h_prime;\n",
    "h_d = -ones(N);\n",
    "J = -copy(J_prime); # The minus sign is purely because of the requirement by the Action function. I missed a minus sign in the derivation and that is what is causing all this confusion \n"
   ]
  },
  {
   "cell_type": "code",
   "execution_count": null,
   "metadata": {},
   "outputs": [],
   "source": [
    "pauli_string = AdaptiveQuantumAnnealing.pauli_string_struct(pauli_string_generator(N)...); # This is the pauli strings\n",
    "\n",
    "init_quantum_states = init_quantum_ground_state(N);\n",
    "H0, H1 = quantum_hamiltonians(N, -ones(N), -h_p, -J); # The problem parameters that need to go into this has to be the actual J and the h_p vector. So I add a minus sign before to nullify the minus"
   ]
  },
  {
   "cell_type": "code",
   "execution_count": null,
   "metadata": {},
   "outputs": [],
   "source": [
    "@variables alpha[1:N] beta[1:N,1:N] gamma[1:N,1:N] s\n",
    "alpha_function_interp, beta_function_interp, gamma_function_interp = agp_coeffs(J, h_d, h_p, alpha, beta, gamma, s, 20000);"
   ]
  },
  {
   "cell_type": "markdown",
   "metadata": {},
   "source": [
    "### For now let us do sesolve."
   ]
  },
  {
   "cell_type": "code",
   "execution_count": null,
   "metadata": {},
   "outputs": [],
   "source": [
    "linear_schedule(x) = x/taulist[end]"
   ]
  },
  {
   "cell_type": "code",
   "execution_count": null,
   "metadata": {},
   "outputs": [],
   "source": [
    "f_prime = y->ForwardDiff.derivative(adaptive_schedule,y)\n",
    "\n",
    "# # Adaptive sesolve\n",
    "\n",
    "h_t_alpha_adaptive = [[pauli_string.sy_list[i], (t,_) -> (N * alpha_function_interp[i](adaptive_schedule(t))) * f_prime(t)] for i in 1:N];\n",
    "h_t_beta_adaptive = [[(pauli_string.sx_list[i] * pauli_string.sy_list[j] + pauli_string.sx_list[j] * pauli_string.sy_list[i]), (t,_) -> (beta_function_interp[i,j](adaptive_schedule(t))) * f_prime(t)/(2)] for i in 1:N for j in 1:N];\n",
    "h_t_gamma_adaptive = [[pauli_string.sz_list[i] * pauli_string.sy_list[j] + pauli_string.sz_list[j] * pauli_string.sy_list[i], (t,_) -> (gamma_function_interp[i,j](adaptive_schedule(t)) )* f_prime(t)/(2)] for i in 1:N for j in 1:N];\n",
    "h_t_og_adaptive = [[H0, (t,_) -> (1 - adaptive_schedule(t))], [H1, (t,_) ->  (adaptive_schedule(t))]] ; # The regular adiabatic one\n",
    "\n",
    "# An alternative method to the above cell\n",
    "h_t_adaptive = copy(h_t_og_adaptive)\n",
    "h_t_adaptive = copy(vcat(h_t_adaptive, h_t_alpha_adaptive))\n",
    "h_t_adaptive = vcat(h_t_adaptive, h_t_beta_adaptive)\n",
    "h_t_adaptive = vcat(h_t_adaptive, h_t_gamma_adaptive);"
   ]
  },
  {
   "cell_type": "code",
   "execution_count": null,
   "metadata": {},
   "outputs": [],
   "source": [
    "# AGP vs No AGP\n",
    "sol_evolve_adaptive = qp.sesolve(h_t_og_adaptive, init_quantum_states, taulist) #, e_ops= [sx_list[spin_nr], sy_list[spin_nr], sz_list[spin_nr]])\n",
    "adaptive_probs = [abs(i[1]^2) for i in sol_evolve_adaptive.states[end]];\n"
   ]
  },
  {
   "cell_type": "code",
   "execution_count": null,
   "metadata": {},
   "outputs": [],
   "source": [
    "\n",
    "sol_evolve_adaptive_agp = qp.sesolve(h_t_adaptive, init_quantum_states, taulist)#, options = options) #, e_ops= [sx_list[spin_nr], sy_list[spin_nr], sz_list[spin_nr]])\n",
    "adaptive_agp_probs = [abs(i[1]^2) for i in sol_evolve_adaptive_agp.states[end]];"
   ]
  },
  {
   "cell_type": "code",
   "execution_count": null,
   "metadata": {},
   "outputs": [],
   "source": [
    "# # Linear sesolve\n",
    "h_t_alpha_linear = [[pauli_string.sy_list[i], (t,_) -> (N * alpha_function_interp[i](t/taulist[end]))/taulist[end]] for i in 1:N];\n",
    "h_t_beta_linear = [[(pauli_string.sx_list[i] * pauli_string.sy_list[j] + pauli_string.sx_list[j] * pauli_string.sy_list[i]), (t,_) -> (beta_function_interp[i,j](t/taulist[end]))/(2 * taulist[end])] for i in 1:N for j in 1:N];\n",
    "h_t_gamma_linear = [[pauli_string.sz_list[i] * pauli_string.sy_list[j] + pauli_string.sz_list[j] * pauli_string.sy_list[i], (t,_) -> (gamma_function_interp[i,j](t/taulist[end]))/(2 * taulist[end])] for i in 1:N for j in 1:N];\n",
    "h_t_og_linear = [[H0, (t,_) -> ((taulist[end] - t) / taulist[end])], [H1, (t,_) ->  (t / taulist[end])]] ; # The regular adiabatic one\n",
    "# An alternative method to the above cell\n",
    "h_t_linear = copy(h_t_og_linear)\n",
    "h_t_linear = copy(vcat(h_t_linear, h_t_alpha_linear))\n",
    "h_t_linear = vcat(h_t_linear, h_t_beta_linear)\n",
    "h_t_linear = vcat(h_t_linear, h_t_gamma_linear);"
   ]
  },
  {
   "cell_type": "code",
   "execution_count": null,
   "metadata": {},
   "outputs": [],
   "source": [
    "sol_evolve_linear_agp = qp.sesolve(h_t_linear, init_quantum_states, taulist)\n",
    "linear_agp_probs = [abs(i[1]^2) for i in sol_evolve_linear_agp.states[end]];\n",
    "\n"
   ]
  },
  {
   "cell_type": "code",
   "execution_count": null,
   "metadata": {},
   "outputs": [],
   "source": [
    "\n",
    "sol_evolve_linear = qp.sesolve(h_t_og_linear, init_quantum_states, taulist) #, e_ops= [sx_list[spin_nr], sy_list[spin_nr], sz_list[spin_nr]])\n",
    "linear_probs = [abs(i[1]^2) for i in sol_evolve_linear.states[end]];"
   ]
  },
  {
   "cell_type": "code",
   "execution_count": null,
   "metadata": {},
   "outputs": [],
   "source": [
    "# sort(AdaptiveQuantumAnnealing.energies_and_bitstrings_df_sesolve(mf_problem), [:energy])"
   ]
  },
  {
   "cell_type": "code",
   "execution_count": null,
   "metadata": {},
   "outputs": [],
   "source": [
    "df_sesolve = AdaptiveQuantumAnnealing.energies_and_bitstrings_df_sesolve(mf_problem)\n",
    "df_sesolve[!,\"linear_probs\"] = linear_probs;\n",
    "df_sesolve[!,\"linear_agp_probs\"] = linear_agp_probs;\n",
    "df_sesolve[!,\"adaptive_probs\"] = adaptive_probs;\n",
    "df_sesolve[!,\"adaptive_agp_probs\"] = adaptive_agp_probs\n",
    "df_sesolve[!, \"Row_number\"] = 1:2^N # you can find the probability to look out for in the solution given out by energies_and_bitstrings_df_sesolve\n",
    "\n",
    "sort!(df_sesolve, [:energy]);\n",
    "\n"
   ]
  },
  {
   "cell_type": "code",
   "execution_count": null,
   "metadata": {},
   "outputs": [],
   "source": [
    "# using Arrow\n",
    "# Arrow.write(save_adaptive_path * \"/\" * string(trunc(Int,T_f_in)) *\"_8_.arrow\", df)"
   ]
  },
  {
   "cell_type": "code",
   "execution_count": null,
   "metadata": {},
   "outputs": [],
   "source": [
    "df\n",
    "# There is definitley something strange going on with 10k points for interpolation, every other entry works like a charm. But just 10k fails # I tried restaring the notebook and running from scratch. But 10k???????????????\n"
   ]
  },
  {
   "cell_type": "code",
   "execution_count": null,
   "metadata": {},
   "outputs": [],
   "source": [
    "# sum(df[!,\"adaptive_probs\"])"
   ]
  },
  {
   "cell_type": "code",
   "execution_count": null,
   "metadata": {},
   "outputs": [],
   "source": [
    "maximum(adaptive_agp_probs)\n",
    "sol_evolve_linear.states[1]\n",
    "# Have to encode the actual solution in Qutip\n",
    "init_quantum_states\n",
    "abs(init_quantum_states.overlap(sol_evolve_linear.states[1]))"
   ]
  },
  {
   "cell_type": "code",
   "execution_count": null,
   "metadata": {},
   "outputs": [],
   "source": [
    "function fidelity_function(O)\n",
    "    fidelity_vector = []#Array{Float64}(undef,256)\n",
    "    for temp_sol in sol_evolve_adaptive.states\n",
    "        push!(fidelity_vector,abs(temp_sol[O][1] ^ 2));\n",
    "    end\n",
    "    return fidelity_vector\n",
    "end\n",
    "\n",
    "init_fidelity = [abs(init_quantum_states.overlap(temp_sol))^2 for temp_sol in sol_evolve_adaptive.states];"
   ]
  },
  {
   "cell_type": "code",
   "execution_count": null,
   "metadata": {},
   "outputs": [],
   "source": [
    "using JLD2\n",
    "# save_object(\"/home/ubuntu/.julia/dev/AdaptiveQuantumAnnealing/notebooks/sk_overlap_fidelity_data/gs_adap.jld2\",fidelity_function(17))\n",
    "# save_object(\"/home/ubuntu/.julia/dev/AdaptiveQuantumAnnealing/notebooks/sk_overlap_fidelity_data/1ex_adap.jld2\",fidelity_function(48))\n",
    "# save_object(\"/home/ubuntu/.julia/dev/AdaptiveQuantumAnnealing/notebooks/sk_overlap_fidelity_data/init_state_adap.jld2\",init_fidelity);\n"
   ]
  },
  {
   "cell_type": "code",
   "execution_count": null,
   "metadata": {},
   "outputs": [],
   "source": [
    "figure(figsize = (4,3))\n",
    "\n",
    "plot(taulist, fidelity_function(17), linestyle = \"-\", label=L\"Solution\\, fidelity\", color=\"C0\")\n",
    "plot(taulist, fidelity_function(48), linestyle = \"-\", label=L\"1^{st}\\, excited\", color=\"C1\")\n",
    "plot(taulist, init_fidelity, linestyle = \"-\", label=L\"Initial\\, state\", color=\"C2\")\n",
    "\n",
    "xlabel(L\"T_{\\mathrm{Final}}\")\n",
    "ylabel(\"Overlap\")\n",
    "legend(loc = 6,fontsize = 11)\n",
    "ylim(0,1)\n",
    "xlim(0,)\n",
    "tight_layout()\n",
    "display(gcf())\n",
    "\n",
    "# # savefig(\"/home/ubuntu/Archives/projects/Master_thesis/graphics/results/sk_instance_2/fidelity_adaptive.pdf\")"
   ]
  },
  {
   "cell_type": "code",
   "execution_count": null,
   "metadata": {},
   "outputs": [],
   "source": [
    "\n",
    "\n",
    "# Beautification\n",
    "figure(figsize=(4, 3))\n",
    "\n",
    "# Data\n",
    "\n",
    "fidelity_17 = fidelity_function(17)\n",
    "fidelity_48 = fidelity_function(48)\n",
    "init_fidelity = init_fidelity  # Example data for init_fidelity\n",
    "\n",
    "# Plot data\n",
    "plot(taulist, fidelity_17, linestyle=\"-\", label=L\"Solution\\, fidelity\", color=\"C0\")\n",
    "plot(taulist, fidelity_48, linestyle=\"-\", label=L\"1^{st}\\, excited\", color=\"C1\")\n",
    "plot(taulist, init_fidelity, linestyle=\"-\", label=L\"Initial\\, state\", color=\"C2\")\n",
    "\n",
    "# Labels and Legend\n",
    "xlabel(L\"T_{\\mathrm{Final}}\")\n",
    "ylabel(\"Overlap\")\n",
    "legend(loc=\"lower left\", fontsize=11)\n",
    "yticks([0.0, 0.5, 1.0])\n",
    "# Adjustments\n",
    "ylim(0, 1)\n",
    "xlim(0, maximum(taulist))\n",
    "tight_layout()\n",
    "\n",
    "# Display figure\n",
    "display(gcf())\n",
    "# savefig(\"/home/ubuntu/Archives/projects/Master_thesis/graphics/results/sk_instance_2/fidelity_linear.pdf\")"
   ]
  },
  {
   "cell_type": "markdown",
   "metadata": {},
   "source": [
    "### Shift things to QAOA (works better for larger systems)"
   ]
  },
  {
   "cell_type": "code",
   "execution_count": null,
   "metadata": {},
   "outputs": [],
   "source": [
    "T_f_in"
   ]
  },
  {
   "cell_type": "code",
   "execution_count": null,
   "metadata": {},
   "outputs": [],
   "source": [
    "\n",
    "mf_problem = Problem(trunc(Int, T_f_in * 20),h, J_mat);\n",
    "\n",
    "linear_schedule(x) = x/taulist[end]\n",
    "f_prime = y->ForwardDiff.derivative(adaptive_schedule,y)\n"
   ]
  },
  {
   "cell_type": "code",
   "execution_count": null,
   "metadata": {},
   "outputs": [],
   "source": [
    "\n",
    "adaptive_probs = anneal(mf_problem, x->round((adaptive_schedule(x)),digits = 5), taulist[end]);\n",
    "# adaptive_agp_probs = anneal_CD(mf_problem, x->adaptive_schedule(x), taulist[end], alpha_function_interp, beta_function_interp, gamma_function_interp)\n",
    ";"
   ]
  },
  {
   "cell_type": "code",
   "execution_count": null,
   "metadata": {},
   "outputs": [],
   "source": [
    "\n",
    "# linear_agp_probs = anneal_CD(mf_problem, linear_schedule, taulist[end], alpha_function_interp, beta_function_interp, gamma_function_interp)\n",
    "linear_probs = anneal(mf_problem, linear_schedule, taulist[end]);"
   ]
  },
  {
   "cell_type": "code",
   "execution_count": null,
   "metadata": {},
   "outputs": [],
   "source": [
    "# agp_probs_qaoa = anneal_CD(mf_problem, x->adaptive_schedule(x), taulist[end], alpha_function_interp, beta_function_interp, gamma_function_interp)\n",
    "# # agp_probs_qaoa = anneal_CD(mf_problem, x->adaptive_schedule(x), taulist[end], alpha_function_interp, beta_function_interp, gamma_function_interp)\n",
    "# no_agp_probs_qaoa = anneal(mf_problem, x->round((adaptive_schedule(x)),digits = 5), taulist[end])\n",
    "# linear_vanila_probs_qaoa = anneal(mf_problem, linear_schedule, taulist[end]);"
   ]
  },
  {
   "cell_type": "code",
   "execution_count": null,
   "metadata": {},
   "outputs": [],
   "source": [
    "df = AdaptiveQuantumAnnealing.energies_and_bitstrings_qaoa(mf_problem)\n",
    "df[!,\"adaptive_agp_probs\"] = ones(size(adaptive_probs)[1])\n",
    "df[!,\"adaptive_probs\"] = adaptive_probs;\n",
    "df[!,\"linear_probs\"] = linear_probs;\n",
    "df[!,\"linear_agp_probs\"] = ones(size(adaptive_probs)[1]);\n",
    "df[!, \"row_number\"] = 1:2^N\n",
    "\n",
    "sort!(df, [:energy]);"
   ]
  },
  {
   "cell_type": "code",
   "execution_count": null,
   "metadata": {},
   "outputs": [],
   "source": [
    "df"
   ]
  },
  {
   "cell_type": "code",
   "execution_count": null,
   "metadata": {},
   "outputs": [],
   "source": []
  }
 ],
 "metadata": {
  "kernelspec": {
   "display_name": "Julia 1.8.1",
   "language": "julia",
   "name": "julia-1.8"
  },
  "language_info": {
   "file_extension": ".jl",
   "mimetype": "application/julia",
   "name": "julia",
   "version": "1.8.1"
  }
 },
 "nbformat": 4,
 "nbformat_minor": 2
}
